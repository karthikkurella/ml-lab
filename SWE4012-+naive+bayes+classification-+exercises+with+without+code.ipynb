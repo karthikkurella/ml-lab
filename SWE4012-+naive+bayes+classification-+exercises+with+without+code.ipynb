{
 "cells": [
  {
   "cell_type": "code",
   "execution_count": null,
   "metadata": {
    "collapsed": true
   },
   "outputs": [],
   "source": [
    "import pandas as pd\n",
    "weather=['Sunny','Sunny','Overcast','Rainy','Rainy','Rainy','Overcast','Sunny','Sunny',\n",
    "'Rainy','Sunny','Overcast','Overcast','Rainy']\n",
    "temp=['Hot','Hot','Hot','Mild','Cool','Cool','Cool','Mild','Cool','Mild','Mild','Mild','Hot','Mild']\n",
    "\n",
    "play=['No','No','Yes','Yes','Yes','No','Yes','No','Yes','Yes','Yes','Yes','Yes','No']\n",
    "\n"
   ]
  },
  {
   "cell_type": "code",
   "execution_count": null,
   "metadata": {
    "collapsed": true
   },
   "outputs": [],
   "source": [
    "#label encode the weather data\n",
    "#write the code here.......\n",
    "\n",
    "#******************\n",
    "# Import LabelEncoder\n",
    "\n",
    "#creating labelEncoder\n",
    "\n",
    "\n",
    "\n",
    "# Converting string labels into numbers.\n",
    "weather_encoded=\n",
    "#**************\n",
    "\n",
    "\n",
    "weather_encoded\n",
    "\n"
   ]
  },
  {
   "cell_type": "code",
   "execution_count": null,
   "metadata": {
    "collapsed": true
   },
   "outputs": [],
   "source": [
    "#label encode the temp data \n",
    "#write the code here.......\n",
    "\n",
    "#******************\n",
    "# Converting string labels into numbers\n",
    "temp_encoded=\n",
    "\n",
    "#**************\n",
    "\n",
    "\n",
    "\n",
    "temp_encoded "
   ]
  },
  {
   "cell_type": "code",
   "execution_count": null,
   "metadata": {
    "collapsed": true
   },
   "outputs": [],
   "source": [
    "df = pd.DataFrame(list(zip(weather_encoded,temp_encoded,play)), \n",
    "               columns =['Weather','Temperature','Play']) \n",
    "df"
   ]
  },
  {
   "cell_type": "code",
   "execution_count": null,
   "metadata": {
    "collapsed": true
   },
   "outputs": [],
   "source": [
    "# xtrain contains first two features (weather and temp)\n",
    "# write the code here............\n",
    "# ************************\n",
    "xtrain = \n",
    "#ytrain contains only  Play(class label)\n",
    "ytrain =\n",
    "# *************************"
   ]
  },
  {
   "cell_type": "code",
   "execution_count": null,
   "metadata": {
    "collapsed": true
   },
   "outputs": [],
   "source": [
    "# training the model on training set using Gaussian Naive bayes\n",
    "from sklearn.naive_bayes import GaussianNB \n",
    "\n",
    "# Init the Gaussian Classifier and train the model\n",
    "# Write the code here................\n",
    "#***********************************\n",
    "\n",
    "\n",
    "# **********************************\n",
    "\n",
    "# Xtest data\n",
    "xtest=[[0,2],[2,2],[1,2],[1,0]]\n",
    "\n",
    "# Predict Output \n",
    "pred = model.predict(xtest)\n",
    "pred\n"
   ]
  }
 ],
 "metadata": {
  "kernelspec": {
   "display_name": "Python 3",
   "language": "python",
   "name": "python3"
  },
  "language_info": {
   "codemirror_mode": {
    "name": "ipython",
    "version": 3
   },
   "file_extension": ".py",
   "mimetype": "text/x-python",
   "name": "python",
   "nbconvert_exporter": "python",
   "pygments_lexer": "ipython3",
   "version": "3.6.3"
  }
 },
 "nbformat": 4,
 "nbformat_minor": 2
}
